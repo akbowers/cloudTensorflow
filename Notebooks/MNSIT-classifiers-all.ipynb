{
 "cells": [
  {
   "cell_type": "markdown",
   "metadata": {},
   "source": [
    "# 1) Load Data"
   ]
  },
  {
   "cell_type": "code",
   "execution_count": 1,
   "metadata": {},
   "outputs": [
    {
     "name": "stdout",
     "output_type": "stream",
     "text": [
      "Extracting data/MNIST_data/train-images-idx3-ubyte.gz\n",
      "Extracting data/MNIST_data/train-labels-idx1-ubyte.gz\n",
      "Extracting data/MNIST_data/t10k-images-idx3-ubyte.gz\n",
      "Extracting data/MNIST_data/t10k-labels-idx1-ubyte.gz\n"
     ]
    }
   ],
   "source": [
    "from tensorflow.examples.tutorials.mnist import input_data\n",
    "mnist = input_data.read_data_sets(\"data/MNIST_data/\", one_hot=True)\n",
    "from src.classifyMNIST import *\n",
    "import matplotlib.pyplot as plt\n",
    "%matplotlib inline"
   ]
  },
  {
   "cell_type": "markdown",
   "metadata": {},
   "source": [
    "# 2) Parse out Desired Digits - 2 v 9 Classifier"
   ]
  },
  {
   "cell_type": "code",
   "execution_count": 2,
   "metadata": {
    "collapsed": true
   },
   "outputs": [],
   "source": [
    "allowed_classes = [2, 9]\n",
    "RD = Reduce_DataSet(mnist, allowed_classes)"
   ]
  },
  {
   "cell_type": "code",
   "execution_count": null,
   "metadata": {},
   "outputs": [],
   "source": [
    "# train_i = RD.get_indices()\n",
    "# test_i = RD.get_indices(False)"
   ]
  },
  {
   "cell_type": "code",
   "execution_count": 3,
   "metadata": {
    "collapsed": true
   },
   "outputs": [],
   "source": [
    "X_train, y_train_old = RD.reduce_train_test_set()\n",
    "X_test, y_test_old = RD.reduce_train_test_set(False)"
   ]
  },
  {
   "cell_type": "code",
   "execution_count": 4,
   "metadata": {
    "collapsed": true
   },
   "outputs": [],
   "source": [
    "y_train = RD.fix_y_encoding()\n",
    "y_test = RD.fix_y_encoding(False)"
   ]
  },
  {
   "cell_type": "markdown",
   "metadata": {},
   "source": [
    "## Plot Some of the Train Data to verify correct Parsing"
   ]
  },
  {
   "cell_type": "code",
   "execution_count": 5,
   "metadata": {},
   "outputs": [],
   "source": [
    "p = Plot(X_train, y_train_old)"
   ]
  },
  {
   "cell_type": "code",
   "execution_count": 6,
   "metadata": {},
   "outputs": [
    {
     "data": {
      "image/png": "[encoded data removed]",
      "text/plain": [
       "<matplotlib.figure.Figure at 0x7f0083709950>"
      ]
     },
     "metadata": {},
     "output_type": "display_data"
    }
   ],
   "source": [
    "fig, axs = plt.subplots(3, 4, figsize=(12, 6))\n",
    "\n",
    "p.plot_images(axs)"
   ]
  },
  {
   "cell_type": "markdown",
   "metadata": {},
   "source": [
    "# 3) Create the Model"
   ]
  },
  {
   "cell_type": "code",
   "execution_count": 7,
   "metadata": {},
   "outputs": [
    {
     "name": "stdout",
     "output_type": "stream",
     "text": [
      "Number of features: 784\n",
      " Number of classes: 2\n"
     ]
    }
   ],
   "source": [
    "num_pixels = X_train.shape[1]\n",
    "num_classes = len(allowed_classes)\n",
    "print ('Number of features: {}\\n Number of classes: {}'.format(num_pixels, num_classes))"
   ]
  },
  {
   "cell_type": "code",
   "execution_count": 8,
   "metadata": {
    "collapsed": true
   },
   "outputs": [],
   "source": [
    "x_tf = tf.placeholder(tf.float32, [None, num_pixels])\n",
    "y_tf = tf.placeholder(tf.float32, [None, num_classes])\n",
    "W = tf.Variable(tf.zeros([num_pixels, num_classes]))\n",
    "b = tf.Variable(tf.zeros([num_classes]))\n",
    "y_hat = tf.matmul(x_tf, W) + b\n",
    "y_hat_proba = tf.nn.softmax(y_hat)"
   ]
  },
  {
   "cell_type": "markdown",
   "metadata": {},
   "source": [
    "# 4) Define Loss and Optimizer "
   ]
  },
  {
   "cell_type": "markdown",
   "metadata": {},
   "source": [
    "The raw formulation of cross-entropy, \n",
    "\n",
    "    tf.reduce_mean(-tf.reduce_sum(y_tf * tf.log(tf.nn.softmax(y_hat), reduction_indices=[1])))\n",
    "\n",
    "can be numerically unstable.\n",
    "\n",
    "So here we use tf.nn.softmax_cross_entropy_with_logits on the ray outputs of 'y_hat', and then average them across the batch"
   ]
  },
  {
   "cell_type": "code",
   "execution_count": 9,
   "metadata": {
    "collapsed": true
   },
   "outputs": [],
   "source": [
    "cross_entropy = tf.reduce_mean(\n",
    "            tf.nn.softmax_cross_entropy_with_logits(labels= y_tf, logits= y_hat))\n",
    "train_step = tf.train.GradientDescentOptimizer(0.5).minimize(cross_entropy)"
   ]
  },
  {
   "cell_type": "markdown",
   "metadata": {},
   "source": [
    "### Try Printing Accuracy DURING training"
   ]
  },
  {
   "cell_type": "code",
   "execution_count": 10,
   "metadata": {
    "collapsed": true
   },
   "outputs": [],
   "source": [
    "correct_preds = tf.equal(tf.argmax(y_tf, 1), tf.argmax(y_hat, 1))\n",
    "accuracy = tf.reduce_mean(tf.cast(correct_preds, tf.float32))"
   ]
  },
  {
   "cell_type": "code",
   "execution_count": 11,
   "metadata": {
    "collapsed": true
   },
   "outputs": [],
   "source": [
    "sess = tf.InteractiveSession()\n",
    "tf.global_variables_initializer().run()"
   ]
  },
  {
   "cell_type": "markdown",
   "metadata": {},
   "source": [
    "# 5) Train Model"
   ]
  },
  {
   "cell_type": "markdown",
   "metadata": {},
   "source": [
    "Note: We will not use entire training set above, but rather only look at one \"batch\" at a time. \n",
    "    * Parse out desired digits (2s and 9s) for each \"batch\""
   ]
  },
  {
   "cell_type": "code",
   "execution_count": 12,
   "metadata": {},
   "outputs": [
    {
     "name": "stdout",
     "output_type": "stream",
     "text": [
      "Step 0, train accuracy 0.501\n",
      "Step 100, train accuracy 0.986\n",
      "Step 200, train accuracy 0.988\n",
      "Step 300, train accuracy 0.989\n",
      "Step 400, train accuracy 0.990\n",
      "Step 500, train accuracy 0.990\n",
      "Step 600, train accuracy 0.991\n",
      "Step 700, train accuracy 0.991\n",
      "Step 800, train accuracy 0.991\n",
      "Step 900, train accuracy 0.992\n"
     ]
    }
   ],
   "source": [
    "for i in range(1000):\n",
    "    batch_imgs, batch_labels = mnist.train.next_batch(100)\n",
    "    xs, ys_old_hot_encode = RD.reduce_train_test_set()\n",
    "    ys = RD.fix_y_encoding()\n",
    "    [train_accuracy] = sess.run([accuracy], feed_dict= {x_tf: xs, y_tf: ys})\n",
    "    if i % 100 == 0:\n",
    "        print (\"Step {}, train accuracy {:0.3f}\".format(i, train_accuracy))\n",
    "    sess.run(train_step, feed_dict={x_tf: xs.reshape(-1, num_pixels), y_tf: ys.reshape(-1, num_classes)})    "
   ]
  },
  {
   "cell_type": "markdown",
   "metadata": {},
   "source": [
    "# 6) Evaluate Model"
   ]
  },
  {
   "cell_type": "code",
   "execution_count": 13,
   "metadata": {},
   "outputs": [],
   "source": [
    "pred_probs = y_hat_proba.eval(feed_dict= {x_tf: X_test.reshape(-1, num_pixels), y_tf: y_test.reshape(-1, num_classes)})"
   ]
  },
  {
   "cell_type": "code",
   "execution_count": 14,
   "metadata": {},
   "outputs": [
    {
     "data": {
      "text/plain": [
       "array([[  9.99999762e-01,   2.14680540e-07],\n",
       "       [  3.30329966e-03,   9.96696711e-01],\n",
       "       [  1.00698635e-04,   9.99899268e-01],\n",
       "       [  1.11613760e-03,   9.98883903e-01],\n",
       "       [  1.02760289e-02,   9.89723921e-01]], dtype=float32)"
      ]
     },
     "execution_count": 14,
     "metadata": {},
     "output_type": "execute_result"
    }
   ],
   "source": [
    "pred_probs[:5, :] "
   ]
  },
  {
   "cell_type": "code",
   "execution_count": 15,
   "metadata": {},
   "outputs": [
    {
     "name": "stdout",
     "output_type": "stream",
     "text": [
      "0.987751\n"
     ]
    }
   ],
   "source": [
    "test_accuracy = tf.reduce_mean(tf.cast(correct_preds, tf.float32))\n",
    "print (sess.run(test_accuracy, feed_dict= {x_tf: X_test, y_tf: y_test}))"
   ]
  },
  {
   "cell_type": "markdown",
   "metadata": {},
   "source": [
    "# Repeat for 3-Way Classifier - 0 v 4 v 7"
   ]
  },
  {
   "cell_type": "code",
   "execution_count": 16,
   "metadata": {
    "collapsed": true
   },
   "outputs": [],
   "source": [
    "allowed_classes3 = [0, 4, 7]\n",
    "RD3 = Reduce_DataSet(mnist, allowed_classes3)"
   ]
  },
  {
   "cell_type": "code",
   "execution_count": 17,
   "metadata": {
    "collapsed": true
   },
   "outputs": [],
   "source": [
    "X_train3, y_train_old3 = RD3.reduce_train_test_set()\n",
    "X_test3, y_test_old3 = RD3.reduce_train_test_set(False)"
   ]
  },
  {
   "cell_type": "code",
   "execution_count": 18,
   "metadata": {
    "collapsed": true
   },
   "outputs": [],
   "source": [
    "y_train3 = RD3.fix_y_encoding()\n",
    "y_test3 = RD3.fix_y_encoding(False)"
   ]
  },
  {
   "cell_type": "code",
   "execution_count": 19,
   "metadata": {},
   "outputs": [
    {
     "data": {
      "image/png": "[encoded data removed]",
      "text/plain": [
       "<matplotlib.figure.Figure at 0x7f0082c5cd50>"
      ]
     },
     "metadata": {},
     "output_type": "display_data"
    }
   ],
   "source": [
    "p3 = Plot(X_train3, y_train_old3)\n",
    "fig3, axs3 = plt.subplots(3, 4, figsize=(12, 6))\n",
    "\n",
    "p3.plot_images(axs3)"
   ]
  },
  {
   "cell_type": "markdown",
   "metadata": {},
   "source": [
    "## Model"
   ]
  },
  {
   "cell_type": "code",
   "execution_count": 20,
   "metadata": {},
   "outputs": [
    {
     "name": "stdout",
     "output_type": "stream",
     "text": [
      "Number of features: 784\n",
      " Number of classes: 3\n"
     ]
    }
   ],
   "source": [
    "num_pixels3 = X_train3.shape[1]\n",
    "num_classes3 = len(allowed_classes3)\n",
    "print ('Number of features: {}\\n Number of classes: {}'.format(num_pixels3, num_classes3))"
   ]
  },
  {
   "cell_type": "code",
   "execution_count": 21,
   "metadata": {
    "collapsed": true
   },
   "outputs": [],
   "source": [
    "x_tf3 = tf.placeholder(tf.float32, [None, num_pixels3])\n",
    "y_tf3 = tf.placeholder(tf.float32, [None, num_classes3])\n",
    "W3 = tf.Variable(tf.zeros([num_pixels3, num_classes3]))\n",
    "b3 = tf.Variable(tf.zeros([num_classes3]))\n",
    "y_hat3 = tf.matmul(x_tf3, W3) + b3\n",
    "y_hat_proba3 = tf.nn.softmax(y_hat)"
   ]
  },
  {
   "cell_type": "code",
   "execution_count": 22,
   "metadata": {
    "collapsed": true
   },
   "outputs": [],
   "source": [
    "W3 = tf.Variable(tf.zeros([num_pixels3, num_classes3]))\n",
    "b3 = tf.Variable(tf.zeros([num_classes3]))\n",
    "y_hat = tf.matmul(x_tf3, W3) + b3\n",
    "y_hat_proba3 = tf.nn.softmax(y_hat3)"
   ]
  },
  {
   "cell_type": "code",
   "execution_count": 23,
   "metadata": {
    "collapsed": true
   },
   "outputs": [],
   "source": [
    "cross_entropy3 = tf.reduce_mean(\n",
    "            tf.nn.softmax_cross_entropy_with_logits(labels= y_tf3, logits= y_hat3))\n",
    "train_step3 = tf.train.GradientDescentOptimizer(0.5).minimize(cross_entropy3)"
   ]
  },
  {
   "cell_type": "code",
   "execution_count": 24,
   "metadata": {
    "collapsed": true
   },
   "outputs": [],
   "source": [
    "correct_preds3 = tf.equal(tf.argmax(y_tf3, 1), tf.argmax(y_hat3, 1))\n",
    "accuracy3 = tf.reduce_mean(tf.cast(correct_preds3, tf.float32))"
   ]
  },
  {
   "cell_type": "code",
   "execution_count": 25,
   "metadata": {
    "collapsed": true
   },
   "outputs": [],
   "source": [
    "sess3 = tf.InteractiveSession()\n",
    "tf.global_variables_initializer().run()"
   ]
  },
  {
   "cell_type": "code",
   "execution_count": 26,
   "metadata": {},
   "outputs": [
    {
     "name": "stdout",
     "output_type": "stream",
     "text": [
      "Step 0, train accuracy 0.331\n",
      "Step 100, train accuracy 0.987\n",
      "Step 200, train accuracy 0.988\n",
      "Step 300, train accuracy 0.989\n",
      "Step 400, train accuracy 0.990\n",
      "Step 500, train accuracy 0.990\n",
      "Step 600, train accuracy 0.990\n",
      "Step 700, train accuracy 0.991\n",
      "Step 800, train accuracy 0.991\n",
      "Step 900, train accuracy 0.991\n"
     ]
    }
   ],
   "source": [
    "for i in range(1000):\n",
    "    batch_imgs3, batch_labels3 = mnist.train.next_batch(100)\n",
    "    xs3, ys_old_hot_encode3 = RD3.reduce_train_test_set()\n",
    "    ys3 = RD3.fix_y_encoding()\n",
    "    [train_accuracy3] = sess3.run([accuracy3], feed_dict= {x_tf3: xs3, y_tf3: ys3})\n",
    "    if i % 100 == 0:\n",
    "        print (\"Step {}, train accuracy {:0.3f}\".format(i, train_accuracy3))\n",
    "    sess3.run(train_step3, feed_dict={x_tf3: xs3.reshape(-1, num_pixels3), y_tf3: ys3.reshape(-1, num_classes3)})"
   ]
  },
  {
   "cell_type": "code",
   "execution_count": 27,
   "metadata": {},
   "outputs": [],
   "source": [
    "pred_probs3 = y_hat_proba3.eval(feed_dict= {x_tf3: X_test3.reshape(-1, num_pixels3), \n",
    "                                            y_tf3: y_test3.reshape(-1, num_classes3)})"
   ]
  },
  {
   "cell_type": "code",
   "execution_count": 28,
   "metadata": {},
   "outputs": [
    {
     "data": {
      "text/plain": [
       "array([[  1.69055333e-04,   5.36948346e-06,   9.99825656e-01],\n",
       "       [  9.99898911e-01,   9.19810716e-08,   1.00930498e-04],\n",
       "       [  3.19543877e-04,   9.89407241e-01,   1.02732303e-02],\n",
       "       [  2.44016937e-05,   9.98762131e-01,   1.21348316e-03],\n",
       "       [  9.99958515e-01,   3.24547036e-05,   9.05249453e-06]], dtype=float32)"
      ]
     },
     "execution_count": 28,
     "metadata": {},
     "output_type": "execute_result"
    }
   ],
   "source": [
    "pred_probs3[:5]"
   ]
  },
  {
   "cell_type": "code",
   "execution_count": 29,
   "metadata": {},
   "outputs": [
    {
     "name": "stdout",
     "output_type": "stream",
     "text": [
      "0.99097\n"
     ]
    }
   ],
   "source": [
    "correct_preds3 = tf.equal(tf.argmax(y_tf3, 1), tf.argmax(y_hat3, 1))\n",
    "accuracy3 = tf.reduce_mean(tf.cast(correct_preds3, tf.float32))\n",
    "print (sess3.run(accuracy3, feed_dict= {x_tf3: X_test3, y_tf3: y_test3}))"
   ]
  },
  {
   "cell_type": "markdown",
   "metadata": {},
   "source": [
    "# Full MNIST DataSet"
   ]
  },
  {
   "cell_type": "code",
   "execution_count": 30,
   "metadata": {},
   "outputs": [],
   "source": [
    "allowed_classes = list(np.arange(10))\n",
    "RD = Reduce_DataSet(mnist, allowed_classes)\n",
    "num_classes = len(allowed_classes)"
   ]
  },
  {
   "cell_type": "code",
   "execution_count": 31,
   "metadata": {
    "collapsed": true
   },
   "outputs": [],
   "source": [
    "y_tf = tf.placeholder(tf.float32, [None, num_classes])\n",
    "W = tf.Variable(tf.zeros([num_pixels, num_classes]))\n",
    "b = tf.Variable(tf.zeros([num_classes]))\n",
    "y_hat = tf.matmul(x_tf, W) + b\n",
    "y_hat_proba = tf.nn.softmax(y_hat)"
   ]
  },
  {
   "cell_type": "code",
   "execution_count": 32,
   "metadata": {
    "collapsed": true
   },
   "outputs": [],
   "source": [
    "cross_entropy = tf.reduce_mean(\n",
    "            tf.nn.softmax_cross_entropy_with_logits(labels= y_tf, logits= y_hat))\n",
    "train_step = tf.train.GradientDescentOptimizer(0.5).minimize(cross_entropy)"
   ]
  },
  {
   "cell_type": "code",
   "execution_count": 33,
   "metadata": {
    "collapsed": true
   },
   "outputs": [],
   "source": [
    "correct_preds = tf.equal(tf.argmax(y_tf, 1), tf.argmax(y_hat, 1))\n",
    "accuracy = tf.reduce_mean(tf.cast(correct_preds, tf.float32))"
   ]
  },
  {
   "cell_type": "code",
   "execution_count": 34,
   "metadata": {
    "collapsed": true
   },
   "outputs": [],
   "source": [
    "sess = tf.InteractiveSession()\n",
    "tf.global_variables_initializer().run()"
   ]
  },
  {
   "cell_type": "code",
   "execution_count": 35,
   "metadata": {},
   "outputs": [
    {
     "name": "stdout",
     "output_type": "stream",
     "text": [
      "Step 0, train accuracy 0.099\n",
      "Step 100, train accuracy 0.894\n",
      "Step 200, train accuracy 0.904\n",
      "Step 300, train accuracy 0.909\n",
      "Step 400, train accuracy 0.913\n",
      "Step 500, train accuracy 0.915\n",
      "Step 600, train accuracy 0.917\n",
      "Step 700, train accuracy 0.918\n",
      "Step 800, train accuracy 0.919\n",
      "Step 900, train accuracy 0.920\n"
     ]
    }
   ],
   "source": [
    "for i in range(1000):\n",
    "    batch_imgs, batch_labels = mnist.train.next_batch(100)\n",
    "    xs, ys_old_hot_encode = RD.reduce_train_test_set()\n",
    "    ys = RD.fix_y_encoding()\n",
    "    [train_accuracy] = sess.run([accuracy], feed_dict= {x_tf: xs, y_tf: ys})\n",
    "    if i % 100 == 0:\n",
    "        print (\"Step {}, train accuracy {:0.3f}\".format(i, train_accuracy))\n",
    "    sess.run(train_step, feed_dict={x_tf: xs.reshape(-1, num_pixels), y_tf: ys.reshape(-1, num_classes)})    "
   ]
  },
  {
   "cell_type": "code",
   "execution_count": 36,
   "metadata": {
    "collapsed": true
   },
   "outputs": [],
   "source": [
    "X_test, y_test_old = RD.reduce_train_test_set(False)\n",
    "y_test = RD.fix_y_encoding(False)"
   ]
  },
  {
   "cell_type": "code",
   "execution_count": 37,
   "metadata": {},
   "outputs": [
    {
     "data": {
      "text/plain": [
       "array([[  6.14158052e-05,   9.76317160e-09,   1.40559248e-04,\n",
       "          2.83019803e-03,   2.61914943e-06,   3.16111909e-05,\n",
       "          3.48641684e-08,   9.96371388e-01,   3.27089256e-05,\n",
       "          5.29458572e-04],\n",
       "       [  3.45803658e-03,   1.80573606e-05,   9.60925877e-01,\n",
       "          5.06858341e-03,   9.04515296e-10,   8.12213682e-03,\n",
       "          2.04090625e-02,   6.30288322e-11,   1.99826644e-03,\n",
       "          1.67031065e-08],\n",
       "       [  1.28991178e-05,   9.72206414e-01,   1.27524203e-02,\n",
       "          3.61636397e-03,   2.25314696e-04,   1.48767279e-03,\n",
       "          1.73697900e-03,   3.46246595e-03,   3.92968394e-03,\n",
       "          5.69807074e-04],\n",
       "       [  9.99338686e-01,   2.06136955e-10,   1.39484444e-04,\n",
       "          1.53515084e-05,   3.57668739e-08,   2.85482209e-04,\n",
       "          1.32066009e-04,   2.71527297e-05,   4.67472018e-05,\n",
       "          1.50841734e-05],\n",
       "       [  6.01712149e-04,   3.50634696e-06,   4.39170608e-03,\n",
       "          1.90064777e-04,   9.50474024e-01,   4.87185665e-04,\n",
       "          3.43866134e-03,   7.51292985e-03,   4.72760247e-03,\n",
       "          2.81725340e-02]], dtype=float32)"
      ]
     },
     "execution_count": 37,
     "metadata": {},
     "output_type": "execute_result"
    }
   ],
   "source": [
    "pred_probs = y_hat_proba.eval(feed_dict= {x_tf: X_test.reshape(-1, num_pixels), y_tf: y_test.reshape(-1, num_classes)})\n",
    "pred_probs[:5]"
   ]
  },
  {
   "cell_type": "code",
   "execution_count": 38,
   "metadata": {},
   "outputs": [
    {
     "name": "stdout",
     "output_type": "stream",
     "text": [
      "0.9216\n"
     ]
    }
   ],
   "source": [
    "test_accuracy = tf.reduce_mean(tf.cast(correct_preds, tf.float32))\n",
    "print (sess.run(test_accuracy, feed_dict= {x_tf: X_test, y_tf: y_test}))"
   ]
  },
  {
   "cell_type": "markdown",
   "metadata": {},
   "source": [
    "## BONUS: Find most frequently misclassified digit"
   ]
  },
  {
   "cell_type": "markdown",
   "metadata": {},
   "source": [
    "Among the test set, which digit is misclassified most often?"
   ]
  },
  {
   "cell_type": "code",
   "execution_count": 39,
   "metadata": {},
   "outputs": [],
   "source": [
    "predicted_label = np.argmax(pred_probs, axis= 1)\n",
    "actual_label = np.argmax(y_test, axis= 1)"
   ]
  },
  {
   "cell_type": "code",
   "execution_count": 40,
   "metadata": {},
   "outputs": [],
   "source": [
    "incorrect_indicies = np.where(actual_label != predicted_label)"
   ]
  },
  {
   "cell_type": "code",
   "execution_count": 41,
   "metadata": {},
   "outputs": [],
   "source": [
    "misclassified = actual_label[incorrect_indicies]"
   ]
  },
  {
   "cell_type": "code",
   "execution_count": 42,
   "metadata": {},
   "outputs": [
    {
     "data": {
      "text/plain": [
       "5"
      ]
     },
     "execution_count": 42,
     "metadata": {},
     "output_type": "execute_result"
    }
   ],
   "source": [
    "np.argmax(np.bincount(misclassified))"
   ]
  },
  {
   "cell_type": "markdown",
   "metadata": {},
   "source": [
    "What are 5's most commonly mistaken for?"
   ]
  },
  {
   "cell_type": "code",
   "execution_count": 43,
   "metadata": {},
   "outputs": [
    {
     "data": {
      "text/plain": [
       "3"
      ]
     },
     "execution_count": 43,
     "metadata": {},
     "output_type": "execute_result"
    }
   ],
   "source": [
    "actual_fives = np.where(actual_label == 5)\n",
    "misclassified_fives = np.where(predicted_label[actual_fives] != 5)\n",
    "np.argmax(np.bincount(predicted_label[misclassified_fives]))"
   ]
  },
  {
   "cell_type": "markdown",
   "metadata": {},
   "source": [
    "This seems reasonable..."
   ]
  }
 ],
 "metadata": {
  "kernelspec": {
   "display_name": "Python [Root]",
   "language": "python",
   "name": "Python [Root]"
  },
  "language_info": {
   "codemirror_mode": {
    "name": "ipython",
    "version": 2
   },
   "file_extension": ".py",
   "mimetype": "text/x-python",
   "name": "python",
   "nbconvert_exporter": "python",
   "pygments_lexer": "ipython2",
   "version": "2.7.13"
  }
 },
 "nbformat": 4,
 "nbformat_minor": 2
}
