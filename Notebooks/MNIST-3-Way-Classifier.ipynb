{
 "cells": [
  {
   "cell_type": "markdown",
   "metadata": {},
   "source": [
    "# 1) Load Data and Libraries"
   ]
  },
  {
   "cell_type": "code",
   "execution_count": 1,
   "metadata": {},
   "outputs": [
    {
     "name": "stdout",
     "output_type": "stream",
     "text": [
      "Extracting data/MNIST_data/train-images-idx3-ubyte.gz\n",
      "Extracting data/MNIST_data/train-labels-idx1-ubyte.gz\n",
      "Extracting data/MNIST_data/t10k-images-idx3-ubyte.gz\n",
      "Extracting data/MNIST_data/t10k-labels-idx1-ubyte.gz\n"
     ]
    }
   ],
   "source": [
    "from tensorflow.examples.tutorials.mnist import input_data\n",
    "mnist = input_data.read_data_sets(\"data/MNIST_data/\", one_hot=True)\n",
    "from src.classifyMNIST import *\n",
    "import matplotlib.pyplot as plt\n",
    "%matplotlib inline"
   ]
  },
  {
   "cell_type": "markdown",
   "metadata": {},
   "source": [
    "# 2) Parse Out Desired Digits- 0 v 4 v 7"
   ]
  },
  {
   "cell_type": "code",
   "execution_count": 2,
   "metadata": {
    "collapsed": true
   },
   "outputs": [],
   "source": [
    "allowed_classes = [0, 4, 7]\n",
    "RD = Reduce_DataSet(mnist, allowed_classes)"
   ]
  },
  {
   "cell_type": "code",
   "execution_count": 3,
   "metadata": {
    "collapsed": true
   },
   "outputs": [],
   "source": [
    "X_train, y_train_old = RD.reduce_train_test_set()\n",
    "X_test, y_test_old = RD.reduce_train_test_set(False)"
   ]
  },
  {
   "cell_type": "code",
   "execution_count": 4,
   "metadata": {
    "collapsed": true
   },
   "outputs": [],
   "source": [
    "y_train = RD.fix_y_encoding()\n",
    "y_test = RD.fix_y_encoding(False)"
   ]
  },
  {
   "cell_type": "markdown",
   "metadata": {},
   "source": [
    "## Plot Some of the Train Data to verify correct Parsing"
   ]
  },
  {
   "cell_type": "code",
   "execution_count": 5,
   "metadata": {},
   "outputs": [
    {
     "data": {
      "image/png": "[encoded data removed]",
      "text/plain": [
       "<matplotlib.figure.Figure at 0x7f3debc8ca90>"
      ]
     },
     "metadata": {},
     "output_type": "display_data"
    }
   ],
   "source": [
    "p = Plot(X_train, y_train_old)\n",
    "fig, axs = plt.subplots(3, 4, figsize=(12, 6))\n",
    "\n",
    "p.plot_images(axs)"
   ]
  },
  {
   "cell_type": "markdown",
   "metadata": {},
   "source": [
    "# 3) Create the Model"
   ]
  },
  {
   "cell_type": "code",
   "execution_count": 6,
   "metadata": {},
   "outputs": [
    {
     "name": "stdout",
     "output_type": "stream",
     "text": [
      "Number of features: 784\n",
      " Number of classes: 3\n"
     ]
    }
   ],
   "source": [
    "num_pixels = X_train.shape[1]\n",
    "num_classes = len(allowed_classes)\n",
    "print ('Number of features: {}\\n Number of classes: {}'.format(num_pixels, num_classes))"
   ]
  },
  {
   "cell_type": "code",
   "execution_count": 7,
   "metadata": {
    "collapsed": true
   },
   "outputs": [],
   "source": [
    "x_tf = tf.placeholder(tf.float32, [None, num_pixels])\n",
    "y_tf = tf.placeholder(tf.float32, [None, num_classes])\n",
    "W = tf.Variable(tf.zeros([num_pixels, num_classes]))\n",
    "b = tf.Variable(tf.zeros([num_classes]))\n",
    "y_hat = tf.matmul(x_tf, W) + b\n",
    "y_hat_proba = tf.nn.softmax(y_hat)"
   ]
  },
  {
   "cell_type": "markdown",
   "metadata": {},
   "source": [
    "# 4) Define Loss and Optimizer "
   ]
  },
  {
   "cell_type": "markdown",
   "metadata": {},
   "source": [
    "The raw formulation of cross-entropy, \n",
    "\n",
    "    tf.reduce_mean(-tf.reduce_sum(y_tf * tf.log(tf.nn.softmax(y_hat), reduction_indices=[1])))\n",
    "\n",
    "can be numerically unstable.\n",
    "\n",
    "So here we use tf.nn.softmax_cross_entropy_with_logits on the ray outputs of 'y_hat', and then average them across the batch"
   ]
  },
  {
   "cell_type": "code",
   "execution_count": 8,
   "metadata": {
    "collapsed": true
   },
   "outputs": [],
   "source": [
    "cross_entropy = tf.reduce_mean(\n",
    "            tf.nn.softmax_cross_entropy_with_logits(labels= y_tf, logits= y_hat))\n",
    "train_step = tf.train.GradientDescentOptimizer(0.5).minimize(cross_entropy)"
   ]
  },
  {
   "cell_type": "markdown",
   "metadata": {},
   "source": [
    "## Initialize Training Accuracy Tensors"
   ]
  },
  {
   "cell_type": "code",
   "execution_count": 9,
   "metadata": {
    "collapsed": true
   },
   "outputs": [],
   "source": [
    "correct_preds = tf.equal(tf.argmax(y_tf, 1), tf.argmax(y_hat, 1))\n",
    "accuracy = tf.reduce_mean(tf.cast(correct_preds, tf.float32))"
   ]
  },
  {
   "cell_type": "code",
   "execution_count": 10,
   "metadata": {
    "collapsed": true
   },
   "outputs": [],
   "source": [
    "sess = tf.InteractiveSession()\n",
    "tf.global_variables_initializer().run()"
   ]
  },
  {
   "cell_type": "markdown",
   "metadata": {},
   "source": [
    "# 5) Train Model"
   ]
  },
  {
   "cell_type": "markdown",
   "metadata": {},
   "source": [
    "Note: We will not use entire training set above, but rather only look at one \"batch\" at a time. \n",
    "    * Parse out desired digits (0s and 4s and 7s) for each \"batch\""
   ]
  },
  {
   "cell_type": "code",
   "execution_count": 11,
   "metadata": {},
   "outputs": [
    {
     "name": "stdout",
     "output_type": "stream",
     "text": [
      "Step 0, train accuracy 0.331\n",
      "Step 100, train accuracy 0.987\n",
      "Step 200, train accuracy 0.988\n",
      "Step 300, train accuracy 0.989\n",
      "Step 400, train accuracy 0.990\n",
      "Step 500, train accuracy 0.990\n",
      "Step 600, train accuracy 0.990\n",
      "Step 700, train accuracy 0.991\n",
      "Step 800, train accuracy 0.991\n",
      "Step 900, train accuracy 0.991\n"
     ]
    }
   ],
   "source": [
    "for i in range(1000):\n",
    "    batch_imgs, batch_labels = mnist.train.next_batch(100)\n",
    "    xs, ys_old_hot_encode = RD.reduce_train_test_set()\n",
    "    ys = RD.fix_y_encoding()\n",
    "    [train_accuracy] = sess.run([accuracy], feed_dict= {x_tf: xs, y_tf: ys})\n",
    "    if i % 100 == 0:\n",
    "        print (\"Step {}, train accuracy {:0.3f}\".format(i, train_accuracy))\n",
    "    sess.run(train_step, feed_dict={x_tf: xs.reshape(-1, num_pixels), y_tf: ys.reshape(-1, num_classes)})    "
   ]
  },
  {
   "cell_type": "markdown",
   "metadata": {},
   "source": [
    "# 6) Evaluate Model"
   ]
  },
  {
   "cell_type": "code",
   "execution_count": 13,
   "metadata": {},
   "outputs": [
    {
     "data": {
      "text/plain": [
       "array([[  1.69055333e-04,   5.36948346e-06,   9.99825656e-01],\n",
       "       [  9.99898911e-01,   9.19812422e-08,   1.00930498e-04],\n",
       "       [  3.19543877e-04,   9.89407241e-01,   1.02732303e-02],\n",
       "       [  2.44016937e-05,   9.98762131e-01,   1.21348270e-03],\n",
       "       [  9.99958515e-01,   3.24546709e-05,   9.05247816e-06]], dtype=float32)"
      ]
     },
     "execution_count": 13,
     "metadata": {},
     "output_type": "execute_result"
    }
   ],
   "source": [
    "pred_probs = y_hat_proba.eval(feed_dict= {x_tf: X_test.reshape(-1, num_pixels), \n",
    "                                          y_tf: y_test.reshape(-1, num_classes)})\n",
    "pred_probs[:5, :] "
   ]
  },
  {
   "cell_type": "code",
   "execution_count": 14,
   "metadata": {},
   "outputs": [
    {
     "name": "stdout",
     "output_type": "stream",
     "text": [
      "0.99097\n"
     ]
    }
   ],
   "source": [
    "test_accuracy = tf.reduce_mean(tf.cast(correct_preds, tf.float32))\n",
    "print (sess.run(test_accuracy, feed_dict= {x_tf: X_test, y_tf: y_test}))"
   ]
  },
  {
   "cell_type": "code",
   "execution_count": null,
   "metadata": {
    "collapsed": true
   },
   "outputs": [],
   "source": []
  }
 ],
 "metadata": {
  "kernelspec": {
   "display_name": "Python [Root]",
   "language": "python",
   "name": "Python [Root]"
  },
  "language_info": {
   "codemirror_mode": {
    "name": "ipython",
    "version": 2
   },
   "file_extension": ".py",
   "mimetype": "text/x-python",
   "name": "python",
   "nbconvert_exporter": "python",
   "pygments_lexer": "ipython2",
   "version": "2.7.13"
  }
 },
 "nbformat": 4,
 "nbformat_minor": 2
}
