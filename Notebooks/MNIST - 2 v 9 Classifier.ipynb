{
 "cells": [
  {
   "cell_type": "markdown",
   "metadata": {},
   "source": [
    "# 1) Load and Filter Data"
   ]
  },
  {
   "cell_type": "code",
   "execution_count": 3,
   "metadata": {},
   "outputs": [
    {
     "name": "stdout",
     "output_type": "stream",
     "text": [
      "Extracting data/MNIST_data/train-images-idx3-ubyte.gz\n",
      "Extracting data/MNIST_data/train-labels-idx1-ubyte.gz\n",
      "Extracting data/MNIST_data/t10k-images-idx3-ubyte.gz\n",
      "Extracting data/MNIST_data/t10k-labels-idx1-ubyte.gz\n"
     ]
    }
   ],
   "source": [
    "%matplotlib inline\n",
    "import matplotlib.pyplot as plt\n",
    "import tensorflow as tf\n",
    "import numpy as np\n",
    "import pandas as pd\n",
    "from tensorflow.examples.tutorials.mnist import input_data\n",
    "\n",
    "import matplotlib\n",
    "matplotlib.style.use('ggplot')\n",
    "\n",
    "mnist = input_data.read_data_sets(\"data/MNIST_data/\", one_hot=True)"
   ]
  },
  {
   "cell_type": "code",
   "execution_count": null,
   "metadata": {
    "collapsed": true
   },
   "outputs": [],
   "source": [
    "train_imgs = mnist.train.images\n",
    "train_labels = mnist.train.labels\n",
    "test_imgs = mnist.test.images\n",
    "test_labels = mnist.test.labels"
   ]
  },
  {
   "cell_type": "code",
   "execution_count": null,
   "metadata": {},
   "outputs": [],
   "source": [
    "mnist.train.next_batch(100)[1][0]"
   ]
  },
  {
   "cell_type": "markdown",
   "metadata": {},
   "source": [
    "## Parse out the twos and the nines\n",
    "Do this by looking for the indices where the label array is either 2 or 9"
   ]
  },
  {
   "cell_type": "code",
   "execution_count": null,
   "metadata": {
    "collapsed": true
   },
   "outputs": [],
   "source": [
    "train_indices = np.where(np.logical_or(np.where(train_labels[:] == 1)[1] == 2, \n",
    "                                       np.where(train_labels[:] == 1)[1] == 9))\n",
    "test_indices = np.where(np.logical_or(np.where(test_labels[:] == 1)[1] == 2, \n",
    "                                      np.where(test_labels[:] == 1)[1] == 9))"
   ]
  },
  {
   "cell_type": "code",
   "execution_count": null,
   "metadata": {
    "collapsed": true
   },
   "outputs": [],
   "source": [
    "my_train_imgs = train_imgs[train_indices]\n",
    "my_train_labels = train_labels[train_indices]"
   ]
  },
  {
   "cell_type": "code",
   "execution_count": null,
   "metadata": {},
   "outputs": [],
   "source": [
    "train_imgs.shape"
   ]
  },
  {
   "cell_type": "code",
   "execution_count": null,
   "metadata": {
    "collapsed": true
   },
   "outputs": [],
   "source": [
    "X_test = test_imgs[test_indices]\n",
    "y_test_old_encode = test_labels[test_indices]"
   ]
  },
  {
   "cell_type": "code",
   "execution_count": null,
   "metadata": {
    "collapsed": true
   },
   "outputs": [],
   "source": [
    "def fix_encoding(y_old_encode, labels):\n",
    "    '''\n",
    "    Changes old one-hot encoding from 10-class system to n-class system\n",
    "    e.g. [0, 0, 1, 0, 0, 0, 0, 0, 0, 0] -> [1, 0]\n",
    "    and  [0, 0, 0, 0, 0, 0, 0, 0, 0, 1] -> [0, 1]\n",
    "    converts 2 and 9 encoded vectors from base 10 to base 2\n",
    "    y_old_encode: m x 10 np.array of m data encoded in base 10\n",
    "    labels: python list of labels in desired classifier'''\n",
    "    num_classes = len(labels)\n",
    "    y = np.zeros((y_old_encode.shape[0], num_classes))\n",
    "    pos_indicator = np.where(y_old_encode[:] == 1)[1]\n",
    "    # t_indices = np.where(reduce(np.logical_or, [x== pos_indicator for x in lst]))\n",
    "    for i, x in enumerate(labels):\n",
    "        new_enc = np.zeros(num_classes)\n",
    "        new_enc[i] = 1\n",
    "        y[pos_indicator == x] = new_enc\n",
    "        #y[t_indices] = new_enc\n",
    "    return y"
   ]
  },
  {
   "cell_type": "code",
   "execution_count": null,
   "metadata": {
    "collapsed": true
   },
   "outputs": [],
   "source": [
    "y_test = fix_encoding(y_test_old_encode, [2, 9])"
   ]
  },
  {
   "cell_type": "markdown",
   "metadata": {},
   "source": [
    "# 2) Look at the Data by Plotting actual images"
   ]
  },
  {
   "cell_type": "code",
   "execution_count": 9,
   "metadata": {
    "collapsed": true
   },
   "outputs": [],
   "source": [
    "def remove_grid_lines(axs):\n",
    "    \"\"\"Remove the default grid lines from a collection of axies.\"\"\"\n",
    "    for ax in axs.flatten():\n",
    "        ax.grid(False)\n",
    "        \n",
    "def plot_greyscale_image(ax, image, label):\n",
    "    \"\"\"Plot a greyscale image and label its class.\"\"\"\n",
    "    first_digit = image.reshape(28, -1)\n",
    "    ax.imshow(first_digit, cmap=plt.cm.gray_r, interpolation=\"nearest\")\n",
    "    ax.set_title(\"Class: {}\".format(label))"
   ]
  },
  {
   "cell_type": "code",
   "execution_count": null,
   "metadata": {},
   "outputs": [],
   "source": [
    "print 'X shape: {}'.format(my_train_imgs.shape)\n",
    "print 'y shape: {}'.format(digit_labels.shape)"
   ]
  },
  {
   "cell_type": "code",
   "execution_count": null,
   "metadata": {},
   "outputs": [],
   "source": [
    "fig, axs = plt.subplots(4, 4, figsize=(12, 6))\n",
    "\n",
    "digit_labels = np.argmax(my_train_labels, axis=1)\n",
    "\n",
    "\n",
    "\n",
    "for image, label, ax in zip(my_train_imgs, digit_labels, axs.flatten()):\n",
    "    plot_greyscale_image(ax, image, label)\n",
    "    # print (type(ax))\n",
    "remove_grid_lines(axs)"
   ]
  },
  {
   "cell_type": "markdown",
   "metadata": {},
   "source": [
    "Each image of a digit is represented as a 2-tensor, and is 28 pixels wide and 28 pixels high.\n",
    "\n",
    "We will often refer to pixel intensities in an image as **activations** in the following way.  Pixels that are \"on\", or black, are said to be **activated**.  In this way, each digit should be characterized by a characteristic pattern of activations."
   ]
  },
  {
   "cell_type": "code",
   "execution_count": null,
   "metadata": {
    "collapsed": true
   },
   "outputs": [],
   "source": [
    "digit_labels.shape"
   ]
  },
  {
   "cell_type": "code",
   "execution_count": null,
   "metadata": {
    "collapsed": true
   },
   "outputs": [],
   "source": [
    "digits_training = my_train_imgs.reshape(-1, 28, 28)\n",
    "first_digit_image = digits_training[0]\n",
    "print(\"Shape of digit image: {}\".format(first_digit_image.shape))"
   ]
  },
  {
   "cell_type": "markdown",
   "metadata": {},
   "source": [
    "The entire training data is a stack of 28 by 28 images, which is a 3-tensor"
   ]
  },
  {
   "cell_type": "code",
   "execution_count": null,
   "metadata": {
    "collapsed": true
   },
   "outputs": [],
   "source": [
    "print(\"Shape of training data: {}\".format(digits_training.shape))"
   ]
  },
  {
   "cell_type": "markdown",
   "metadata": {
    "collapsed": true
   },
   "source": [
    "# 3) Create the Model"
   ]
  },
  {
   "cell_type": "code",
   "execution_count": null,
   "metadata": {
    "collapsed": true
   },
   "outputs": [],
   "source": [
    "num_pixels = train_imgs.shape[1]\n",
    "num_classes = np.unique(my_train_labels).shape[0] # num_classes = len(labels) # labels is \n",
    "                                                                              # user-defined list e.g.[2, 9]\n",
    "print ('Number of features: {}\\n Number of classes: {}'.format(num_pixels, num_classes))"
   ]
  },
  {
   "cell_type": "code",
   "execution_count": null,
   "metadata": {
    "collapsed": true
   },
   "outputs": [],
   "source": [
    "x_tf = tf.placeholder(tf.float32, [None, num_pixels])\n",
    "y_tf = tf.placeholder(tf.float32, [None, num_classes])\n",
    "W = tf.Variable(tf.zeros([num_pixels, num_classes]))\n",
    "b = tf.Variable(tf.zeros([num_classes]))\n",
    "y_hat = tf.matmul(x_tf, W) + b"
   ]
  },
  {
   "cell_type": "markdown",
   "metadata": {},
   "source": [
    "# 4) Define Loss and Optimizer "
   ]
  },
  {
   "cell_type": "markdown",
   "metadata": {},
   "source": [
    "The raw formulation of cross-entropy, \n",
    "\n",
    "    tf.reduce_mean(-tf.reduce_sum(y_tf * tf.log(tf.nn.softmax(y_hat), reduction_indices=[1])))\n",
    "\n",
    "can be numerically unstable.\n",
    "\n",
    "So here we use tf.nn.softmax_cross_entropy_with_logits on the ray outputs of 'y_hat', and then average them across the batch"
   ]
  },
  {
   "cell_type": "code",
   "execution_count": null,
   "metadata": {
    "collapsed": true
   },
   "outputs": [],
   "source": [
    "cross_entropy = tf.reduce_mean(\n",
    "            tf.nn.softmax_cross_entropy_with_logits(labels= y_tf, logits= y_hat))\n",
    "train_step = tf.train.GradientDescentOptimizer(0.5).minimize(cross_entropy)"
   ]
  },
  {
   "cell_type": "code",
   "execution_count": null,
   "metadata": {
    "collapsed": true
   },
   "outputs": [],
   "source": [
    "sess = tf.InteractiveSession()\n",
    "tf.global_variables_initializer().run()"
   ]
  },
  {
   "cell_type": "markdown",
   "metadata": {},
   "source": [
    "# 5) Train"
   ]
  },
  {
   "cell_type": "code",
   "execution_count": null,
   "metadata": {
    "collapsed": true
   },
   "outputs": [],
   "source": [
    "x_tf.shape"
   ]
  },
  {
   "cell_type": "code",
   "execution_count": null,
   "metadata": {
    "collapsed": true
   },
   "outputs": [],
   "source": [
    "y_tf.shape"
   ]
  },
  {
   "cell_type": "code",
   "execution_count": null,
   "metadata": {
    "collapsed": true
   },
   "outputs": [],
   "source": [
    "y_hat.shape"
   ]
  },
  {
   "cell_type": "code",
   "execution_count": null,
   "metadata": {
    "collapsed": true
   },
   "outputs": [],
   "source": [
    "two_bool = np.array([1, 0])\n",
    "nine_bool = np.array([0, 1])"
   ]
  },
  {
   "cell_type": "code",
   "execution_count": null,
   "metadata": {
    "collapsed": true
   },
   "outputs": [],
   "source": [
    "my_train_labels"
   ]
  },
  {
   "cell_type": "code",
   "execution_count": null,
   "metadata": {
    "collapsed": true
   },
   "outputs": [],
   "source": [
    "old_arr = my_train_labels[:23]"
   ]
  },
  {
   "cell_type": "code",
   "execution_count": null,
   "metadata": {
    "collapsed": true
   },
   "outputs": [],
   "source": [
    "np.where(old_arr[:] == 1)[1]"
   ]
  },
  {
   "cell_type": "code",
   "execution_count": null,
   "metadata": {
    "collapsed": true
   },
   "outputs": [],
   "source": [
    "new_arr = np.zeros((old_arr.shape[0], 2))"
   ]
  },
  {
   "cell_type": "code",
   "execution_count": null,
   "metadata": {
    "collapsed": true
   },
   "outputs": [],
   "source": [
    "new_arr[np.where(old_arr[:] == 1)[1] == 2] = np.array([1, 0])\n",
    "new_arr[np.where(old_arr[:] == 1)[1] == 9] = np.array([0, 1])\n",
    "new_arr"
   ]
  },
  {
   "cell_type": "code",
   "execution_count": null,
   "metadata": {
    "collapsed": true
   },
   "outputs": [],
   "source": [
    "old_indices"
   ]
  },
  {
   "cell_type": "code",
   "execution_count": null,
   "metadata": {
    "collapsed": true
   },
   "outputs": [],
   "source": [
    "for _ in range(1000):\n",
    "    batch_imgs, batch_labels = mnist.train.next_batch(100)\n",
    "    pos_indicator = np.where(batch_labels[:] == 1)[1]\n",
    "    train_indices = np.where(np.logical_or(pos_indicator == 2, \n",
    "                                           pos_indicator == 9))\n",
    "    xs = batch_imgs[train_indices]\n",
    "    ys_old_hot_encode = batch_labels[train_indices]\n",
    "    ys = fix_encoding(ys_old_hot_encode, [2, 9])\n",
    "    # print xs.shape\n",
    "    # print ys.shape\n",
    "    # print y_tf.shape\n",
    "    # break\n",
    "    # pos_indicator = np.where(ys_old_hot_encode[:] == 1)[1]\n",
    "    # ys = np.zeros((ys_old_hot_encode.shape[0], num_classes))\n",
    "    # ys[pos_indicator == 2] = [1, 0]\n",
    "    # ys[pos_indicator == 9] = [0, 1]\n",
    "    sess.run(train_step, feed_dict={x_tf: xs.reshape(-1, num_pixels), y_tf: ys.reshape(-1, num_classes)})\n",
    "    "
   ]
  },
  {
   "cell_type": "markdown",
   "metadata": {
    "collapsed": true
   },
   "source": [
    "# 6) Evaluate Model"
   ]
  },
  {
   "cell_type": "code",
   "execution_count": null,
   "metadata": {
    "collapsed": true
   },
   "outputs": [],
   "source": [
    "pred_probs = y_hat.eval(feed_dict= {x_tf: X_test.reshape(-1, num_pixels), y_tf: y_test.reshape(-1, num_classes)})"
   ]
  },
  {
   "cell_type": "code",
   "execution_count": null,
   "metadata": {
    "collapsed": true
   },
   "outputs": [],
   "source": [
    "pred_probs[:5, :] #  THESE ARE SUPPOSED TO BE PROBABILITIES!!!!!! WHAT HAPPENED?!?"
   ]
  },
  {
   "cell_type": "code",
   "execution_count": null,
   "metadata": {
    "collapsed": true
   },
   "outputs": [],
   "source": [
    "correct_preds = tf.equal(tf.argmax(y_tf, 1), tf.argmax(y_hat, 1))\n",
    "accuracy = tf.reduce_mean(tf.cast(correct_preds, tf.float32))\n",
    "print (sess.run(accuracy, feed_dict= {x_tf: X_test, y_tf: y_test}))"
   ]
  },
  {
   "cell_type": "markdown",
   "metadata": {},
   "source": []
  },
  {
   "cell_type": "code",
   "execution_count": null,
   "metadata": {},
   "outputs": [],
   "source": []
  },
  {
   "cell_type": "code",
   "execution_count": null,
   "metadata": {},
   "outputs": [],
   "source": []
  },
  {
   "cell_type": "code",
   "execution_count": null,
   "metadata": {
    "collapsed": true
   },
   "outputs": [],
   "source": []
  },
  {
   "cell_type": "code",
   "execution_count": null,
   "metadata": {
    "collapsed": true
   },
   "outputs": [],
   "source": []
  },
  {
   "cell_type": "code",
   "execution_count": null,
   "metadata": {
    "collapsed": true
   },
   "outputs": [],
   "source": []
  },
  {
   "cell_type": "code",
   "execution_count": null,
   "metadata": {
    "collapsed": true
   },
   "outputs": [],
   "source": []
  },
  {
   "cell_type": "code",
   "execution_count": null,
   "metadata": {
    "collapsed": true
   },
   "outputs": [],
   "source": [
    "fig, axes = plt.subplots(4, 4, figsize= (12, 6))"
   ]
  },
  {
   "cell_type": "code",
   "execution_count": null,
   "metadata": {},
   "outputs": [],
   "source": [
    "p.plot_images(axes)"
   ]
  },
  {
   "cell_type": "code",
   "execution_count": null,
   "metadata": {},
   "outputs": [],
   "source": [
    "p._plot_greyscale_image(img0, label0, ax0)"
   ]
  },
  {
   "cell_type": "code",
   "execution_count": null,
   "metadata": {},
   "outputs": [],
   "source": [
    "ax0.imshow(img0.reshape(28, -1), cmap= plt.cm.gray_r, interpolation=\"nearest\")"
   ]
  },
  {
   "cell_type": "code",
   "execution_count": null,
   "metadata": {},
   "outputs": [],
   "source": [
    "for img, lab, ax in zip(p.my_images, p.my_labels, p.axes.flatten()):\n",
    "    plot_greyscale_image(ax, img, lab)"
   ]
  },
  {
   "cell_type": "code",
   "execution_count": null,
   "metadata": {
    "collapsed": true
   },
   "outputs": [],
   "source": [
    "def remove_grid_lines(axes):\n",
    "    \"\"\"Remove the default grid lines from a collection of axies.\"\"\"\n",
    "    for ax in axes.flatten():\n",
    "        ax.grid(False)"
   ]
  },
  {
   "cell_type": "code",
   "execution_count": null,
   "metadata": {
    "collapsed": true
   },
   "outputs": [],
   "source": [
    "def plot_greyscale_image(image, label, ax):\n",
    "    \"\"\"Plot a greyscale image and label its class.\"\"\"\n",
    "    first_digit = image.reshape(28, -1)\n",
    "    ax.imshow(first_digit, cmap=plt.cm.gray_r, interpolation=\"nearest\")\n",
    "    ax.set_title(\"Class: {}\".format(label))\n",
    "\n",
    "def plot_images(axes):\n",
    "    for image, label, ax in zip(X_train, y_train,\n",
    "                                axes.flatten()):\n",
    "        plot_greyscale_image(image, label, ax)\n",
    "\n",
    "    remove_grid_lines(axes)"
   ]
  },
  {
   "cell_type": "code",
   "execution_count": null,
   "metadata": {},
   "outputs": [],
   "source": [
    "plot_images(axes)"
   ]
  },
  {
   "cell_type": "markdown",
   "metadata": {},
   "source": [
    "# Verify we are pulling out same train test data"
   ]
  },
  {
   "cell_type": "code",
   "execution_count": 1,
   "metadata": {
    "collapsed": true
   },
   "outputs": [],
   "source": [
    "from src.classifyMNIST import *"
   ]
  },
  {
   "cell_type": "code",
   "execution_count": 4,
   "metadata": {},
   "outputs": [],
   "source": [
    "RD = Reduce_DataSet(mnist, [2, 9])"
   ]
  },
  {
   "cell_type": "code",
   "execution_count": 5,
   "metadata": {
    "collapsed": true
   },
   "outputs": [],
   "source": [
    "train_i = RD.get_indices()\n",
    "test_i = RD.get_indices(False)"
   ]
  },
  {
   "cell_type": "code",
   "execution_count": 6,
   "metadata": {
    "collapsed": true
   },
   "outputs": [],
   "source": [
    "X_train, y_train_old = RD.reduce_train_test_set()\n",
    "X_test, y_test_old = RD.reduce_train_test_set(False)"
   ]
  },
  {
   "cell_type": "code",
   "execution_count": 7,
   "metadata": {},
   "outputs": [
    {
     "ename": "NameError",
     "evalue": "name 'my_train_labels' is not defined",
     "output_type": "error",
     "traceback": [
      "\u001b[0;31m---------------------------------------------------------------------------\u001b[0m",
      "\u001b[0;31mNameError\u001b[0m                                 Traceback (most recent call last)",
      "\u001b[0;32m<ipython-input-7-ac291999ba77>\u001b[0m in \u001b[0;36m<module>\u001b[0;34m()\u001b[0m\n\u001b[0;32m----> 1\u001b[0;31m \u001b[0mnp\u001b[0m\u001b[0;34m.\u001b[0m\u001b[0marray_equal\u001b[0m\u001b[0;34m(\u001b[0m\u001b[0my_train_old\u001b[0m\u001b[0;34m,\u001b[0m \u001b[0mmy_train_labels\u001b[0m\u001b[0;34m)\u001b[0m\u001b[0;34m\u001b[0m\u001b[0m\n\u001b[0m",
      "\u001b[0;31mNameError\u001b[0m: name 'my_train_labels' is not defined"
     ]
    }
   ],
   "source": [
    "np.array_equal(y_train_old, my_train_labels)"
   ]
  },
  {
   "cell_type": "code",
   "execution_count": 10,
   "metadata": {},
   "outputs": [
    {
     "data": {
      "image/png": "[encoded data removed]",
      "text/plain": [
       "<matplotlib.figure.Figure at 0x7f9922370210>"
      ]
     },
     "metadata": {},
     "output_type": "display_data"
    }
   ],
   "source": [
    "fig, axs = plt.subplots(4, 4, figsize=(12, 6))\n",
    "\n",
    "digit_labels = np.argmax(y_train_old, axis=1)\n",
    "\n",
    "\n",
    "\n",
    "for image, label, ax in zip(X_train, digit_labels, axs.flatten()):\n",
    "    plot_greyscale_image(ax, image, label)\n",
    "    # print (type(ax))\n",
    "remove_grid_lines(axs)"
   ]
  },
  {
   "cell_type": "code",
   "execution_count": null,
   "metadata": {
    "collapsed": true
   },
   "outputs": [],
   "source": []
  }
 ],
 "metadata": {
  "kernelspec": {
   "display_name": "Python [Root]",
   "language": "python",
   "name": "Python [Root]"
  },
  "language_info": {
   "codemirror_mode": {
    "name": "ipython",
    "version": 2
   },
   "file_extension": ".py",
   "mimetype": "text/x-python",
   "name": "python",
   "nbconvert_exporter": "python",
   "pygments_lexer": "ipython2",
   "version": "2.7.13"
  }
 },
 "nbformat": 4,
 "nbformat_minor": 1
}
